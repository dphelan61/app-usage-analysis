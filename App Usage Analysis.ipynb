{
 "cells": [
  {
   "cell_type": "markdown",
   "metadata": {},
   "source": [
    "# App Usage Analysis - Which type of apps do users gravitate towards?\n",
    "\n",
    "In this project, we will be analyzing usage statistics of our apps to figure out what type of apps have the most users. The goal of doing is then share this information with the development team so the company can start developing more apps like the most popular ones to get more users and get more ad revenue."
   ]
  },
  {
   "cell_type": "markdown",
   "metadata": {},
   "source": [
    "### Google Play Store Dataset:\n",
    "> https://www.kaggle.com/lava18/google-play-store-apps/home\n",
    "\n",
    "### Apple App Store Dataset:\n",
    "> https://www.kaggle.com/ramamet4/app-store-apple-data-set-10k-apps/home"
   ]
  },
  {
   "cell_type": "code",
   "execution_count": 2,
   "metadata": {},
   "outputs": [],
   "source": [
    "# Function for exploring our datasets\n",
    "def explore_data(dataset, start, end, rows_and_columns=False):\n",
    "    dataset_slice = dataset[start:end]    \n",
    "    for row in dataset_slice:\n",
    "        print(row)\n",
    "        print('\\n') # adds a new (empty) line after each row\n",
    "\n",
    "    if rows_and_columns:\n",
    "        print('Number of rows:', len(dataset))\n",
    "        print('Number of columns:', len(dataset[0]))"
   ]
  },
  {
   "cell_type": "code",
   "execution_count": 3,
   "metadata": {},
   "outputs": [],
   "source": [
    "# bring out the reader function from the csv module\n",
    "from csv import reader\n",
    "\n",
    "# Open the google dataset and read it into a list\n",
    "opened_google_file = open(\"google-play-store-apps/googleplaystore.csv\")\n",
    "read_google_file = reader(opened_google_file)\n",
    "google_data_set = list(read_google_file)\n",
    "\n",
    "# open the apple dataset and read it into a list\n",
    "opened_apple_file = open(\"app-store-apple-data-set-10k-apps/AppleStore.csv\")\n",
    "read_apple_file = reader(opened_apple_file)\n",
    "apple_data_set = list(read_apple_file)\n"
   ]
  },
  {
   "cell_type": "code",
   "execution_count": 4,
   "metadata": {},
   "outputs": [
    {
     "name": "stdout",
     "output_type": "stream",
     "text": [
      "['App', 'Category', 'Rating', 'Reviews', 'Size', 'Installs', 'Type', 'Price', 'Content Rating', 'Genres', 'Last Updated', 'Current Ver', 'Android Ver']\n",
      "\n",
      "\n",
      "['Photo Editor & Candy Camera & Grid & ScrapBook', 'ART_AND_DESIGN', '4.1', '159', '19M', '10,000+', 'Free', '0', 'Everyone', 'Art & Design', 'January 7, 2018', '1.0.0', '4.0.3 and up']\n",
      "\n",
      "\n",
      "['Coloring book moana', 'ART_AND_DESIGN', '3.9', '967', '14M', '500,000+', 'Free', '0', 'Everyone', 'Art & Design;Pretend Play', 'January 15, 2018', '2.0.0', '4.0.3 and up']\n",
      "\n",
      "\n",
      "['U Launcher Lite – FREE Live Cool Themes, Hide Apps', 'ART_AND_DESIGN', '4.7', '87510', '8.7M', '5,000,000+', 'Free', '0', 'Everyone', 'Art & Design', 'August 1, 2018', '1.2.4', '4.0.3 and up']\n",
      "\n",
      "\n",
      "['Sketch - Draw & Paint', 'ART_AND_DESIGN', '4.5', '215644', '25M', '50,000,000+', 'Free', '0', 'Teen', 'Art & Design', 'June 8, 2018', 'Varies with device', '4.2 and up']\n",
      "\n",
      "\n",
      "Number of rows: 10842\n",
      "Number of columns: 13\n"
     ]
    }
   ],
   "source": [
    "# explore the google dataset\n",
    "explore_data(google_data_set, 0, 5, rows_and_columns=True)"
   ]
  },
  {
   "cell_type": "code",
   "execution_count": 5,
   "metadata": {},
   "outputs": [
    {
     "name": "stdout",
     "output_type": "stream",
     "text": [
      "['', 'id', 'track_name', 'size_bytes', 'currency', 'price', 'rating_count_tot', 'rating_count_ver', 'user_rating', 'user_rating_ver', 'ver', 'cont_rating', 'prime_genre', 'sup_devices.num', 'ipadSc_urls.num', 'lang.num', 'vpp_lic']\n",
      "\n",
      "\n",
      "['1', '281656475', 'PAC-MAN Premium', '100788224', 'USD', '3.99', '21292', '26', '4', '4.5', '6.3.5', '4+', 'Games', '38', '5', '10', '1']\n",
      "\n",
      "\n",
      "['2', '281796108', 'Evernote - stay organized', '158578688', 'USD', '0', '161065', '26', '4', '3.5', '8.2.2', '4+', 'Productivity', '37', '5', '23', '1']\n",
      "\n",
      "\n",
      "['3', '281940292', 'WeatherBug - Local Weather, Radar, Maps, Alerts', '100524032', 'USD', '0', '188583', '2822', '3.5', '4.5', '5.0.0', '4+', 'Weather', '37', '5', '3', '1']\n",
      "\n",
      "\n",
      "['4', '282614216', 'eBay: Best App to Buy, Sell, Save! Online Shopping', '128512000', 'USD', '0', '262241', '649', '4', '4.5', '5.10.0', '12+', 'Shopping', '37', '5', '9', '1']\n",
      "\n",
      "\n",
      "Number of rows: 7198\n",
      "Number of columns: 17\n"
     ]
    }
   ],
   "source": [
    "# explore the apple dataset\n",
    "explore_data(apple_data_set, 0, 5, rows_and_columns=True)"
   ]
  },
  {
   "cell_type": "markdown",
   "metadata": {},
   "source": [
    "# Columns of Google App Data Worth Exploring for most popular Google apps per genre\n",
    "\n",
    "To explore which genres are most popular in the Google App dataset, we would want to pull the Genres column in addition to the Installs column to show how many downloads there were per column. In addition, we can also look at the average rating per genre to get an idea of which genre is the highest rated.\n",
    "\n",
    "- Category\n",
    "- Ratings\n",
    "- Installs\n",
    "- Genres\n",
    "\n",
    "For details on what each column name means, please go to the following link:\n",
    "> https://www.kaggle.com/lava18/google-play-store-apps"
   ]
  },
  {
   "cell_type": "markdown",
   "metadata": {},
   "source": [
    "# Columns of Apple App Store Data Worth Exploring for most downloads per genre\n",
    "\n",
    "To explore which genres are most popular in the Apple AppStore dataset, we would want to pull the prime_genre column in addition to the rating_count_tot and user_rating columns to help us find the average rating per genre.\n",
    "\n",
    "- rating_count_tot\n",
    "- user_rating\n",
    "- prime_genre"
   ]
  },
  {
   "cell_type": "markdown",
   "metadata": {},
   "source": [
    "# Data Cleansing Pt. 1 - Outliers and Duplicates\n",
    "\n",
    "Before getting too far into analyzing the data, let's make sure we do some data cleansing first."
   ]
  },
  {
   "cell_type": "code",
   "execution_count": 6,
   "metadata": {},
   "outputs": [
    {
     "name": "stdout",
     "output_type": "stream",
     "text": [
      "['App', 'Category', 'Rating', 'Reviews', 'Size', 'Installs', 'Type', 'Price', 'Content Rating', 'Genres', 'Last Updated', 'Current Ver', 'Android Ver']\n",
      "['Life Made WI-Fi Touchscreen Photo Frame', '1.9', '19', '3.0M', '1,000+', 'Free', '0', 'Everyone', '', 'February 11, 2018', '1.0.19', '4.0 and up']\n"
     ]
    }
   ],
   "source": [
    "# print the header for our reference\n",
    "print(google_data_set[0])\n",
    "# From the kaggle discussion board, a user pointed out the following row has an issue:\n",
    "print(google_data_set[10473])"
   ]
  },
  {
   "cell_type": "markdown",
   "metadata": {},
   "source": [
    "It looks like the above row has a rating of \"19\", which is impossible as the max rating is a 5 in this dataset. To avoid skewing our results incorrectly, let's delete this row"
   ]
  },
  {
   "cell_type": "code",
   "execution_count": 7,
   "metadata": {},
   "outputs": [
    {
     "name": "stdout",
     "output_type": "stream",
     "text": [
      "['osmino Wi-Fi: free WiFi', 'TOOLS', '4.2', '134203', '4.1M', '10,000,000+', 'Free', '0', 'Everyone', 'Tools', 'August 7, 2018', '6.06.14', '4.4 and up']\n"
     ]
    }
   ],
   "source": [
    "# delete the invalid row\n",
    "del google_data_set[10473]\n",
    "# show that the row has been deleted now\n",
    "print(google_data_set[10473])"
   ]
  },
  {
   "cell_type": "markdown",
   "metadata": {},
   "source": [
    "From looking at another discussion item on the Kaggle page, it looks like someone pointed out that there are duplicates in the Google Play Store dataset. Let's dign in and find out."
   ]
  },
  {
   "cell_type": "code",
   "execution_count": 8,
   "metadata": {},
   "outputs": [
    {
     "name": "stdout",
     "output_type": "stream",
     "text": [
      "['Quick PDF Scanner + OCR FREE', 'Box', 'Google My Business', 'ZOOM Cloud Meetings', 'join.me - Simple Meetings']\n"
     ]
    }
   ],
   "source": [
    "# create a couple of lists for storing app names and duplicates\n",
    "duplicate_apps = []\n",
    "unique_apps = []\n",
    "\n",
    "# create a for loop going through each of the apps in the Google Play store\n",
    "for app in google_data_set:\n",
    "    # assign a variable to the app name\n",
    "    name = app[0]\n",
    "    \n",
    "    # if the app is in the unique_apps list already, add it to duplicate_apps\n",
    "    if name in unique_apps:\n",
    "        duplicate_apps.append(name)\n",
    "    else:\n",
    "        unique_apps.append(name)\n",
    "        \n",
    "# print a few of the duplicate apps\n",
    "print(duplicate_apps[0:5])"
   ]
  },
  {
   "cell_type": "code",
   "execution_count": 9,
   "metadata": {},
   "outputs": [
    {
     "name": "stdout",
     "output_type": "stream",
     "text": [
      "1181\n"
     ]
    }
   ],
   "source": [
    "# let's look at the the total number of duplicate apps\n",
    "print(len(duplicate_apps))"
   ]
  },
  {
   "cell_type": "markdown",
   "metadata": {},
   "source": [
    "Now we just need to remove these duplicates. We could remove them at random; however, we might accidentally delete the entry that has the most number of reviews, which more than likely incidates the entry with the hgiher download and more clear user rating. Let's make sure to leave the entry that has the most rows and delete the duplicates."
   ]
  },
  {
   "cell_type": "code",
   "execution_count": 10,
   "metadata": {},
   "outputs": [],
   "source": [
    "# create a dictionary for storing the max number of reviews for each duplicate\n",
    "reviews_max = {}\n",
    "\n",
    "# loop through the google_data_set and don't include the header\n",
    "for app in google_data_set[1:]:\n",
    "    # assign the name of the app to a variable\n",
    "    name = app[0]\n",
    "    \n",
    "    # convert the number of reviews to a float and assign it to a variable\n",
    "    n_reviews = app[3]\n",
    "    \n",
    "    # check to see if the app is in the list and the current key's number of reviews is less than the number of review we \n",
    "    # have. If not, add it to the list along with its number of reviews\n",
    "    if name in reviews_max and reviews_max[name] < n_reviews:\n",
    "        reviews_max[name] = n_reviews\n",
    "    \n",
    "    # check to see if the app is not in the list. If not, add it to the list along with its number of reviews\n",
    "    if name not in reviews_max:\n",
    "        reviews_max[name] = n_reviews"
   ]
  },
  {
   "cell_type": "code",
   "execution_count": 11,
   "metadata": {},
   "outputs": [
    {
     "name": "stdout",
     "output_type": "stream",
     "text": [
      "9659\n"
     ]
    }
   ],
   "source": [
    "# print the number of records we have. It should be 9659\n",
    "print(len(reviews_max))"
   ]
  },
  {
   "cell_type": "code",
   "execution_count": 12,
   "metadata": {},
   "outputs": [
    {
     "name": "stdout",
     "output_type": "stream",
     "text": [
      "80805\n"
     ]
    }
   ],
   "source": [
    "# Test out one duplicate's max number of reviews to make sure it is correct\n",
    "print(reviews_max['Quick PDF Scanner + OCR FREE'])"
   ]
  },
  {
   "cell_type": "code",
   "execution_count": 13,
   "metadata": {},
   "outputs": [],
   "source": [
    "# list for checking the number of reviews for each entry\n",
    "number_of_reviews = []\n",
    "\n",
    "# test that I am pulling the max correctly\n",
    "for app in google_data_set:\n",
    "    if app[0] == 'Quick PDF Scanner + OCR FREE':\n",
    "        number_of_reviews.append(app[3])"
   ]
  },
  {
   "cell_type": "code",
   "execution_count": 14,
   "metadata": {},
   "outputs": [
    {
     "name": "stdout",
     "output_type": "stream",
     "text": [
      "['80805', '80805', '80804']\n"
     ]
    }
   ],
   "source": [
    "print(number_of_reviews)"
   ]
  },
  {
   "cell_type": "markdown",
   "metadata": {},
   "source": [
    "Now that we have the rows that we want to keep, let's make a clean google_data_set"
   ]
  },
  {
   "cell_type": "code",
   "execution_count": 15,
   "metadata": {},
   "outputs": [],
   "source": [
    "# List for clean data set\n",
    "android_clean = []\n",
    "# List for just storing app names\n",
    "already_added = []"
   ]
  },
  {
   "cell_type": "markdown",
   "metadata": {},
   "source": [
    "We'll now loop through the google_data_set and store the row where the number of reviews matches what is in our reviews_max dictionary AND the app is not in our already_added list"
   ]
  },
  {
   "cell_type": "code",
   "execution_count": 16,
   "metadata": {},
   "outputs": [],
   "source": [
    "# for loop for going through the Google Play store (excluding the header)\n",
    "for app in google_data_set[1:]:\n",
    "    # assign the name value to a variable\n",
    "    name = app[0]\n",
    "    # assign the number of reviews to a variable\n",
    "    n_reviews = app[3]\n",
    "    \n",
    "    # check to see if the app is NOT in the already_added list and has a number of reviews that matches what is in\n",
    "    # the reviews_max dictionary. If so, then add the app to the cleaned dataset and the already_added list\n",
    "    if name not in already_added and n_reviews == reviews_max[name]:\n",
    "        # add the whole app row to the cleaned dataset\n",
    "        android_clean.append(app)\n",
    "        # add the name of the app to the already_added list\n",
    "        already_added.append(name)"
   ]
  },
  {
   "cell_type": "code",
   "execution_count": 17,
   "metadata": {},
   "outputs": [
    {
     "name": "stdout",
     "output_type": "stream",
     "text": [
      "9659\n",
      "[['Photo Editor & Candy Camera & Grid & ScrapBook', 'ART_AND_DESIGN', '4.1', '159', '19M', '10,000+', 'Free', '0', 'Everyone', 'Art & Design', 'January 7, 2018', '1.0.0', '4.0.3 and up'], ['U Launcher Lite – FREE Live Cool Themes, Hide Apps', 'ART_AND_DESIGN', '4.7', '87510', '8.7M', '5,000,000+', 'Free', '0', 'Everyone', 'Art & Design', 'August 1, 2018', '1.2.4', '4.0.3 and up'], ['Sketch - Draw & Paint', 'ART_AND_DESIGN', '4.5', '215644', '25M', '50,000,000+', 'Free', '0', 'Teen', 'Art & Design', 'June 8, 2018', 'Varies with device', '4.2 and up'], ['Pixel Draw - Number Art Coloring Book', 'ART_AND_DESIGN', '4.3', '967', '2.8M', '100,000+', 'Free', '0', 'Everyone', 'Art & Design;Creativity', 'June 20, 2018', '1.1', '4.4 and up'], ['Paper flowers instructions', 'ART_AND_DESIGN', '4.4', '167', '5.6M', '50,000+', 'Free', '0', 'Everyone', 'Art & Design', 'March 26, 2017', '1.0', '2.3 and up'], ['Smoke Effect Photo Maker - Smoke Editor', 'ART_AND_DESIGN', '3.8', '178', '19M', '50,000+', 'Free', '0', 'Everyone', 'Art & Design', 'April 26, 2018', '1.1', '4.0.3 and up'], ['Infinite Painter', 'ART_AND_DESIGN', '4.1', '36815', '29M', '1,000,000+', 'Free', '0', 'Everyone', 'Art & Design', 'June 14, 2018', '6.1.61.1', '4.2 and up'], ['Garden Coloring Book', 'ART_AND_DESIGN', '4.4', '13791', '33M', '1,000,000+', 'Free', '0', 'Everyone', 'Art & Design', 'September 20, 2017', '2.9.2', '3.0 and up'], ['Kids Paint Free - Drawing Fun', 'ART_AND_DESIGN', '4.7', '121', '3.1M', '10,000+', 'Free', '0', 'Everyone', 'Art & Design;Creativity', 'July 3, 2018', '2.8', '4.0.3 and up'], ['Text on Photo - Fonteee', 'ART_AND_DESIGN', '4.4', '13880', '28M', '1,000,000+', 'Free', '0', 'Everyone', 'Art & Design', 'October 27, 2017', '1.0.4', '4.1 and up']]\n"
     ]
    }
   ],
   "source": [
    "# let's look at the new android_clean dataset:\n",
    "print(len(android_clean))\n",
    "print(android_clean[0:10])"
   ]
  },
  {
   "cell_type": "code",
   "execution_count": 18,
   "metadata": {},
   "outputs": [],
   "source": [
    "# let's test and make sure that we have the right records for a sample row\n",
    "# list for checking the number of reviews for each entry\n",
    "number_of_reviews = []\n",
    "\n",
    "# test that I am pulling the max correctly\n",
    "for app in android_clean:\n",
    "    if app[0] == 'Quick PDF Scanner + OCR FREE':\n",
    "        number_of_reviews.append(app[3])"
   ]
  },
  {
   "cell_type": "code",
   "execution_count": 19,
   "metadata": {},
   "outputs": [
    {
     "name": "stdout",
     "output_type": "stream",
     "text": [
      "['80805']\n"
     ]
    }
   ],
   "source": [
    "print(number_of_reviews)"
   ]
  },
  {
   "cell_type": "markdown",
   "metadata": {},
   "source": [
    "Now, we have a Google Play store dataset without duplicates or impossible outliers."
   ]
  },
  {
   "cell_type": "markdown",
   "metadata": {},
   "source": [
    "# Data Cleansing Pt. 2 - Removing Non-English apps\n",
    "\n",
    "Another requirement we have for our app analysis is to only consider apps that are directed towards an English-speaking audience since the company develops apps targeted towards this audience. To do this, we'll look at the app names in our dataset, and we'll remove any apps that have a letter or symbol that is not found in the English language per the ASCII codes 0 - 127."
   ]
  },
  {
   "cell_type": "code",
   "execution_count": 20,
   "metadata": {},
   "outputs": [],
   "source": [
    "# Function for iterating through an app name and checking to see if the ASCII code is less than or equal to 127\n",
    "def is_app_likely_english(app_name):\n",
    "    \n",
    "    # initialize a non-English letter counter\n",
    "    non_english_letters = 0\n",
    "    \n",
    "    # look through the app_name\n",
    "    for i in app_name:\n",
    "        # if the ASCII code is not less than or equal to 127, return false, else return true\n",
    "        if ord(i) > 127:\n",
    "            non_english_letters += 1\n",
    "        \n",
    "    # if there are more than 3 non-English letters, then return False. Else return True\n",
    "    if non_english_letters > 3:\n",
    "        return False\n",
    "    else:\n",
    "        return True"
   ]
  },
  {
   "cell_type": "code",
   "execution_count": 21,
   "metadata": {},
   "outputs": [
    {
     "name": "stdout",
     "output_type": "stream",
     "text": [
      "True\n",
      "False\n",
      "True\n",
      "True\n"
     ]
    }
   ],
   "source": [
    "# test the function above on a few examples\n",
    "print(is_app_likely_english('Instagram'))\n",
    "print(is_app_likely_english('爱奇艺PPS -《欢乐颂2》电视剧热播'))\n",
    "print(is_app_likely_english('Docs To Go™ Free Office Suite'))\n",
    "print(is_app_likely_english('Instachat 😜'))"
   ]
  },
  {
   "cell_type": "markdown",
   "metadata": {},
   "source": [
    "Now let's clean both our Google data set and the Apple App store data set to look at only apps with no more than three characters that that have an ASCII code greater than 127."
   ]
  },
  {
   "cell_type": "code",
   "execution_count": 22,
   "metadata": {},
   "outputs": [],
   "source": [
    "# go through the Google Play store apps and remove apps that have more than three characters with an ASCII code \n",
    "# greater than 127\n",
    "\n",
    "# create a new list to append the English apps to\n",
    "android_clean_english_only = []\n",
    "\n",
    "# iterate through the android_clean list\n",
    "for app in android_clean:\n",
    "    \n",
    "    # assign the name value to a variable\n",
    "    name = app[0]\n",
    "    \n",
    "    # use the function above to determine if the app uses mainly English letters according to ASCII codes\n",
    "    # if so, add the name of the app to the cleaned_android_english_only list\n",
    "    if is_app_likely_english(name) == True:\n",
    "        android_clean_english_only.append(app)"
   ]
  },
  {
   "cell_type": "code",
   "execution_count": 23,
   "metadata": {},
   "outputs": [
    {
     "name": "stdout",
     "output_type": "stream",
     "text": [
      "9614\n",
      "Photo Editor & Candy Camera & Grid & ScrapBook\n"
     ]
    }
   ],
   "source": [
    "# check the total amount of records and test that a sample of names are coming correctly from the above dataset\n",
    "print(len(android_clean_english_only))\n",
    "print(android_clean_english_only[0][0])"
   ]
  },
  {
   "cell_type": "code",
   "execution_count": 24,
   "metadata": {},
   "outputs": [],
   "source": [
    "# go through the Apple store apps and remove apps that have more than three characters with an ASCII code \n",
    "# greater than 127\n",
    "\n",
    "# create a new list to append the English apps to\n",
    "apple_clean_english_only = []\n",
    "\n",
    "# iterate through the android_clean list\n",
    "for app in apple_data_set[1:]:\n",
    "    \n",
    "    # assign the name value to a variable\n",
    "    name = app[2]\n",
    "    \n",
    "    # use the function above to determine if the app uses mainly English letters according to ASCII codes\n",
    "    # if so, add the name of the app to the cleaned_android_english_only list\n",
    "    if is_app_likely_english(name) == True:\n",
    "        apple_clean_english_only.append(app)"
   ]
  },
  {
   "cell_type": "code",
   "execution_count": 25,
   "metadata": {},
   "outputs": [
    {
     "name": "stdout",
     "output_type": "stream",
     "text": [
      "6183\n",
      "PAC-MAN Premium\n"
     ]
    }
   ],
   "source": [
    "# check the total amount of records and test that a sample of names are coming correctly from the above dataset\n",
    "print(len(apple_clean_english_only))\n",
    "print(apple_clean_english_only[0][2])"
   ]
  },
  {
   "cell_type": "markdown",
   "metadata": {},
   "source": [
    "# Data Cleansing Pt. 3 - Removing non-free-to-download apps\n",
    "\n",
    "Another requirement we have for our app analysis is to only consider apps that are free to download as the company only builds free apps that rely on in-app purchases. To do this, we'll look remove any apps that have a price greater than $0.00 from our dataset."
   ]
  },
  {
   "cell_type": "code",
   "execution_count": 26,
   "metadata": {},
   "outputs": [
    {
     "name": "stdout",
     "output_type": "stream",
     "text": [
      "Actually, you can trust the Type column, but still use the price column.\n"
     ]
    }
   ],
   "source": [
    "# NOTE: May want to check to make sure that there is no type \"Free\" with a price > $0.00\n",
    "# Let's loop through the google dataset and see if there are any type \"Free\" with a price > $0.00\n",
    "# NOTE: I know that there is a \"Free\" type from looking at the sample of the Google Play Store dataset above\n",
    "def check_type(dataset):\n",
    "    for i in dataset:\n",
    "        if i[6] == \"Free\" and float(i[7]) > 0:\n",
    "            print(\"Yeah, don't trust the Type column\")\n",
    "        \n",
    "    # if we don't print the above statement, then print the below statement since we didn't find a price > 0 for a Free type\n",
    "    print(\"Actually, you can trust the Type column, but still use the price column.\")\n",
    "\n",
    "\n",
    "check_type(android_clean_english_only)"
   ]
  },
  {
   "cell_type": "code",
   "execution_count": 27,
   "metadata": {},
   "outputs": [],
   "source": [
    "# Create a list for the Google dataset to only pull those apps that are free\n",
    "android_clean_english_and_free_only = []\n",
    "# Now let's loop through the Google dataset to only get those that are free\n",
    "for app in android_clean_english_only:\n",
    "    # make a variable for the price\n",
    "    price = app[7]\n",
    "    \n",
    "    # check to see if the price is free. If so, append it to the new list\n",
    "    if price == '0':\n",
    "        android_clean_english_and_free_only.append(app)"
   ]
  },
  {
   "cell_type": "code",
   "execution_count": 28,
   "metadata": {},
   "outputs": [
    {
     "name": "stdout",
     "output_type": "stream",
     "text": [
      "8862\n",
      "[['Photo Editor & Candy Camera & Grid & ScrapBook', 'ART_AND_DESIGN', '4.1', '159', '19M', '10,000+', 'Free', '0', 'Everyone', 'Art & Design', 'January 7, 2018', '1.0.0', '4.0.3 and up'], ['U Launcher Lite – FREE Live Cool Themes, Hide Apps', 'ART_AND_DESIGN', '4.7', '87510', '8.7M', '5,000,000+', 'Free', '0', 'Everyone', 'Art & Design', 'August 1, 2018', '1.2.4', '4.0.3 and up'], ['Sketch - Draw & Paint', 'ART_AND_DESIGN', '4.5', '215644', '25M', '50,000,000+', 'Free', '0', 'Teen', 'Art & Design', 'June 8, 2018', 'Varies with device', '4.2 and up'], ['Pixel Draw - Number Art Coloring Book', 'ART_AND_DESIGN', '4.3', '967', '2.8M', '100,000+', 'Free', '0', 'Everyone', 'Art & Design;Creativity', 'June 20, 2018', '1.1', '4.4 and up'], ['Paper flowers instructions', 'ART_AND_DESIGN', '4.4', '167', '5.6M', '50,000+', 'Free', '0', 'Everyone', 'Art & Design', 'March 26, 2017', '1.0', '2.3 and up']]\n"
     ]
    }
   ],
   "source": [
    "# Test out to make sure that we are only getting free apps by checking a sample\n",
    "print(len(android_clean_english_and_free_only))\n",
    "\n",
    "print(android_clean_english_and_free_only[0:5])"
   ]
  },
  {
   "cell_type": "code",
   "execution_count": 29,
   "metadata": {},
   "outputs": [],
   "source": [
    "# Create a list for the Apple dataset to only pull those apps that are free\n",
    "apple_clean_english_and_free_only = []\n",
    "# Now let's loop through the Google dataset to only get those that are free\n",
    "for app in apple_clean_english_only:\n",
    "    # make a variable for the price\n",
    "    price = app[5]\n",
    "    \n",
    "    # check to see if the price is free. If so, append it to the new list\n",
    "    if price == '0':\n",
    "        apple_clean_english_and_free_only.append(app)"
   ]
  },
  {
   "cell_type": "code",
   "execution_count": 30,
   "metadata": {},
   "outputs": [
    {
     "name": "stdout",
     "output_type": "stream",
     "text": [
      "3222\n",
      "[['2', '281796108', 'Evernote - stay organized', '158578688', 'USD', '0', '161065', '26', '4', '3.5', '8.2.2', '4+', 'Productivity', '37', '5', '23', '1'], ['3', '281940292', 'WeatherBug - Local Weather, Radar, Maps, Alerts', '100524032', 'USD', '0', '188583', '2822', '3.5', '4.5', '5.0.0', '4+', 'Weather', '37', '5', '3', '1'], ['4', '282614216', 'eBay: Best App to Buy, Sell, Save! Online Shopping', '128512000', 'USD', '0', '262241', '649', '4', '4.5', '5.10.0', '12+', 'Shopping', '37', '5', '9', '1'], ['5', '282935706', 'Bible', '92774400', 'USD', '0', '985920', '5320', '4.5', '5', '7.5.1', '4+', 'Reference', '37', '5', '45', '1'], ['7', '283646709', 'PayPal - Send and request money safely', '227795968', 'USD', '0', '119487', '879', '4', '4.5', '6.12.0', '4+', 'Finance', '37', '0', '19', '1']]\n"
     ]
    }
   ],
   "source": [
    "# Test out to make sure that we are only getting free apps by checking a sample\n",
    "print(len(apple_clean_english_and_free_only))\n",
    "\n",
    "print(apple_clean_english_and_free_only[0:5])"
   ]
  },
  {
   "cell_type": "markdown",
   "metadata": {},
   "source": [
    "# Looking at which Genres Are Most Popular\n",
    "Since we are defining success as making apps that generate enough revenues in both the Google Playstore and the Apple App Store to give us a profit, we should look at which genres are most popular since these are likely to bring in the most users, and more users could equal more chances to convert an in-app purchase.\n",
    "\n",
    "From looking at the Google Playstore dataset, the following columns look like they may be helpful:\n",
    "- Category\n",
    "- Genres\n",
    "\n",
    "From looking at the Apple App Store dataset, the prime_genre column looks like it may be helpful"
   ]
  },
  {
   "cell_type": "code",
   "execution_count": 31,
   "metadata": {},
   "outputs": [],
   "source": [
    "# Let's create a frequency table function to see which genres are most popular\n",
    "# This function takes in a list of lists and an index\n",
    "def freq_table(dataset, index):\n",
    "    \n",
    "    # create a dictionary variable that we will return as part of this function\n",
    "    freq_dict = {}\n",
    "    \n",
    "    # Now create the frequency table based on the index provided above\n",
    "    # Loop through the dataset\n",
    "    for i in dataset:\n",
    "        \n",
    "        # set the index of the i to a variable\n",
    "        value = i[index]\n",
    "        \n",
    "        # check to see if the index's value from the dataset exists in the freq_dict\n",
    "        if value in freq_dict:\n",
    "            # if so, increment the key's value by 1\n",
    "            freq_dict[value] += 1\n",
    "        # else just set the key's value to 1\n",
    "        else:\n",
    "            freq_dict[value] = 1\n",
    "            \n",
    "    # now let's convert each of the key values (number of apps within that genre) to a percentage of total apps\n",
    "    # use a for loop to iterate through the different keys\n",
    "    for genre in freq_dict:\n",
    "        \n",
    "        # set the key value to a percentage of total apps\n",
    "        freq_dict[genre] = (freq_dict[genre] / len(dataset)) * 100\n",
    "    \n",
    "    # now return the dictionary\n",
    "    return freq_dict"
   ]
  },
  {
   "cell_type": "code",
   "execution_count": 32,
   "metadata": {},
   "outputs": [
    {
     "name": "stdout",
     "output_type": "stream",
     "text": [
      "{'ART_AND_DESIGN': 0.6431956668923494, 'AUTO_AND_VEHICLES': 0.9252990295644324, 'BEAUTY': 0.598059128864816, 'BOOKS_AND_REFERENCE': 2.143985556307831, 'BUSINESS': 4.5926427443015125, 'COMICS': 0.6206273978785828, 'COMMUNICATION': 3.238546603475513, 'DATING': 1.8618821936357481, 'EDUCATION': 1.1735499887158656, 'ENTERTAINMENT': 0.9591514330850823, 'EVENTS': 0.7109004739336493, 'FINANCE': 3.7011961182577298, 'FOOD_AND_DRINK': 1.2412547957571656, 'HEALTH_AND_FITNESS': 3.080568720379147, 'HOUSE_AND_HOME': 0.8237418190024826, 'LIBRARIES_AND_DEMO': 0.9365831640713158, 'LIFESTYLE': 3.9043105393816293, 'GAME': 9.693071541412774, 'FAMILY': 18.934777702550214, 'MEDICAL': 3.5206499661475967, 'SOCIAL': 2.663055743624464, 'SHOPPING': 2.2455427668697814, 'PHOTOGRAPHY': 2.945159106296547, 'SPORTS': 3.39652448657188, 'TRAVEL_AND_LOCAL': 2.335815842924848, 'TOOLS': 8.451816745655607, 'PERSONALIZATION': 3.3175355450236967, 'PRODUCTIVITY': 3.8930264048747465, 'PARENTING': 0.6544798013992327, 'WEATHER': 0.8011735499887158, 'VIDEO_PLAYERS': 1.7941773865944481, 'NEWS_AND_MAGAZINES': 2.798465357707064, 'MAPS_AND_NAVIGATION': 1.399232678853532}\n"
     ]
    }
   ],
   "source": [
    "# Test out the above function on the cleaned Google dataset\n",
    "google_freq_dict_category = freq_table(android_clean_english_and_free_only,1)\n",
    "# print out the result\n",
    "print(google_freq_dict_category)"
   ]
  },
  {
   "cell_type": "code",
   "execution_count": 33,
   "metadata": {},
   "outputs": [],
   "source": [
    "# create the display table function to make viewing the frequency dictionary easier\n",
    "def display_table(dataset, index):\n",
    "    table = freq_table(dataset, index)\n",
    "    table_display = []\n",
    "    for key in table:\n",
    "        key_val_as_tuple = (table[key], key)\n",
    "        table_display.append(key_val_as_tuple)\n",
    "\n",
    "    table_sorted = sorted(table_display, reverse = True)\n",
    "    for entry in table_sorted:\n",
    "        print(entry[1], ':', entry[0])"
   ]
  },
  {
   "cell_type": "code",
   "execution_count": 34,
   "metadata": {},
   "outputs": [
    {
     "name": "stdout",
     "output_type": "stream",
     "text": [
      "FAMILY : 18.934777702550214\n",
      "GAME : 9.693071541412774\n",
      "TOOLS : 8.451816745655607\n",
      "BUSINESS : 4.5926427443015125\n",
      "LIFESTYLE : 3.9043105393816293\n",
      "PRODUCTIVITY : 3.8930264048747465\n",
      "FINANCE : 3.7011961182577298\n",
      "MEDICAL : 3.5206499661475967\n",
      "SPORTS : 3.39652448657188\n",
      "PERSONALIZATION : 3.3175355450236967\n",
      "COMMUNICATION : 3.238546603475513\n",
      "HEALTH_AND_FITNESS : 3.080568720379147\n",
      "PHOTOGRAPHY : 2.945159106296547\n",
      "NEWS_AND_MAGAZINES : 2.798465357707064\n",
      "SOCIAL : 2.663055743624464\n",
      "TRAVEL_AND_LOCAL : 2.335815842924848\n",
      "SHOPPING : 2.2455427668697814\n",
      "BOOKS_AND_REFERENCE : 2.143985556307831\n",
      "DATING : 1.8618821936357481\n",
      "VIDEO_PLAYERS : 1.7941773865944481\n",
      "MAPS_AND_NAVIGATION : 1.399232678853532\n",
      "FOOD_AND_DRINK : 1.2412547957571656\n",
      "EDUCATION : 1.1735499887158656\n",
      "ENTERTAINMENT : 0.9591514330850823\n",
      "LIBRARIES_AND_DEMO : 0.9365831640713158\n",
      "AUTO_AND_VEHICLES : 0.9252990295644324\n",
      "HOUSE_AND_HOME : 0.8237418190024826\n",
      "WEATHER : 0.8011735499887158\n",
      "EVENTS : 0.7109004739336493\n",
      "PARENTING : 0.6544798013992327\n",
      "ART_AND_DESIGN : 0.6431956668923494\n",
      "COMICS : 0.6206273978785828\n",
      "BEAUTY : 0.598059128864816\n"
     ]
    }
   ],
   "source": [
    "# use the display table function above for the Category column on the Google Play store dataset\n",
    "display_table(android_clean_english_and_free_only,1)"
   ]
  },
  {
   "cell_type": "code",
   "execution_count": 35,
   "metadata": {},
   "outputs": [
    {
     "name": "stdout",
     "output_type": "stream",
     "text": [
      "Tools : 8.440532611148726\n",
      "Entertainment : 6.070864364703228\n",
      "Education : 5.348679756262695\n",
      "Business : 4.5926427443015125\n",
      "Productivity : 3.8930264048747465\n",
      "Lifestyle : 3.8930264048747465\n",
      "Finance : 3.7011961182577298\n",
      "Medical : 3.5206499661475967\n",
      "Sports : 3.4642292936131795\n",
      "Personalization : 3.3175355450236967\n",
      "Communication : 3.238546603475513\n",
      "Action : 3.1031369893929135\n",
      "Health & Fitness : 3.080568720379147\n",
      "Photography : 2.945159106296547\n",
      "News & Magazines : 2.798465357707064\n",
      "Social : 2.663055743624464\n",
      "Travel & Local : 2.324531708417964\n",
      "Shopping : 2.2455427668697814\n",
      "Books & Reference : 2.143985556307831\n",
      "Simulation : 2.0424283457458814\n",
      "Dating : 1.8618821936357481\n",
      "Arcade : 1.8505980591288649\n",
      "Video Players & Editors : 1.7716091175806816\n",
      "Casual : 1.7490408485669149\n",
      "Maps & Navigation : 1.399232678853532\n",
      "Food & Drink : 1.2412547957571656\n",
      "Puzzle : 1.128413450688332\n",
      "Racing : 0.9930038366057323\n",
      "Role Playing : 0.9365831640713158\n",
      "Libraries & Demo : 0.9365831640713158\n",
      "Auto & Vehicles : 0.9252990295644324\n",
      "Strategy : 0.9140148950575491\n",
      "House & Home : 0.8237418190024826\n",
      "Weather : 0.8011735499887158\n",
      "Events : 0.7109004739336493\n",
      "Adventure : 0.6770480704129994\n",
      "Comics : 0.6093432633716994\n",
      "Beauty : 0.598059128864816\n",
      "Art & Design : 0.598059128864816\n",
      "Parenting : 0.49650191830286616\n",
      "Card : 0.4400812457684496\n",
      "Casino : 0.4287971112615662\n",
      "Trivia : 0.41751297675468296\n",
      "Educational;Education : 0.3949447077409162\n",
      "Educational : 0.3723764387271496\n",
      "Board : 0.3723764387271496\n",
      "Education;Education : 0.3385240352064997\n",
      "Word : 0.2595350936583164\n",
      "Casual;Pretend Play : 0.23696682464454977\n",
      "Music : 0.2031144211238998\n",
      "Puzzle;Brain Games : 0.18054615211013314\n",
      "Racing;Action & Adventure : 0.16926201760324985\n",
      "Entertainment;Music & Video : 0.16926201760324985\n",
      "Casual;Brain Games : 0.13540961408259986\n",
      "Casual;Action & Adventure : 0.13540961408259986\n",
      "Arcade;Action & Adventure : 0.12412547957571654\n",
      "Action;Action & Adventure : 0.1015572105619499\n",
      "Educational;Pretend Play : 0.09027307605506657\n",
      "Board;Brain Games : 0.09027307605506657\n",
      "Simulation;Action & Adventure : 0.07898894154818326\n",
      "Parenting;Education : 0.07898894154818326\n",
      "Entertainment;Brain Games : 0.07898894154818326\n",
      "Parenting;Music & Video : 0.06770480704129993\n",
      "Educational;Brain Games : 0.06770480704129993\n",
      "Casual;Creativity : 0.06770480704129993\n",
      "Art & Design;Creativity : 0.06770480704129993\n",
      "Education;Pretend Play : 0.056420672534416606\n",
      "Role Playing;Pretend Play : 0.045136538027533285\n",
      "Education;Creativity : 0.045136538027533285\n",
      "Role Playing;Action & Adventure : 0.033852403520649964\n",
      "Puzzle;Action & Adventure : 0.033852403520649964\n",
      "Entertainment;Creativity : 0.033852403520649964\n",
      "Entertainment;Action & Adventure : 0.033852403520649964\n",
      "Educational;Creativity : 0.033852403520649964\n",
      "Educational;Action & Adventure : 0.033852403520649964\n",
      "Education;Music & Video : 0.033852403520649964\n",
      "Education;Brain Games : 0.033852403520649964\n",
      "Education;Action & Adventure : 0.033852403520649964\n",
      "Adventure;Action & Adventure : 0.033852403520649964\n",
      "Video Players & Editors;Music & Video : 0.022568269013766643\n",
      "Sports;Action & Adventure : 0.022568269013766643\n",
      "Simulation;Pretend Play : 0.022568269013766643\n",
      "Puzzle;Creativity : 0.022568269013766643\n",
      "Music;Music & Video : 0.022568269013766643\n",
      "Entertainment;Pretend Play : 0.022568269013766643\n",
      "Casual;Education : 0.022568269013766643\n",
      "Board;Action & Adventure : 0.022568269013766643\n",
      "Video Players & Editors;Creativity : 0.011284134506883321\n",
      "Trivia;Education : 0.011284134506883321\n",
      "Travel & Local;Action & Adventure : 0.011284134506883321\n",
      "Tools;Education : 0.011284134506883321\n",
      "Strategy;Education : 0.011284134506883321\n",
      "Strategy;Creativity : 0.011284134506883321\n",
      "Strategy;Action & Adventure : 0.011284134506883321\n",
      "Simulation;Education : 0.011284134506883321\n",
      "Role Playing;Brain Games : 0.011284134506883321\n",
      "Racing;Pretend Play : 0.011284134506883321\n",
      "Puzzle;Education : 0.011284134506883321\n",
      "Parenting;Brain Games : 0.011284134506883321\n",
      "Music & Audio;Music & Video : 0.011284134506883321\n",
      "Lifestyle;Pretend Play : 0.011284134506883321\n",
      "Lifestyle;Education : 0.011284134506883321\n",
      "Health & Fitness;Education : 0.011284134506883321\n",
      "Health & Fitness;Action & Adventure : 0.011284134506883321\n",
      "Entertainment;Education : 0.011284134506883321\n",
      "Communication;Creativity : 0.011284134506883321\n",
      "Comics;Creativity : 0.011284134506883321\n",
      "Casual;Music & Video : 0.011284134506883321\n",
      "Card;Brain Games : 0.011284134506883321\n",
      "Card;Action & Adventure : 0.011284134506883321\n",
      "Books & Reference;Education : 0.011284134506883321\n",
      "Art & Design;Pretend Play : 0.011284134506883321\n",
      "Art & Design;Action & Adventure : 0.011284134506883321\n",
      "Arcade;Pretend Play : 0.011284134506883321\n",
      "Adventure;Education : 0.011284134506883321\n"
     ]
    }
   ],
   "source": [
    "# use the display table function above for the Genres column on the Google Play store dataset\n",
    "display_table(android_clean_english_and_free_only,9)"
   ]
  },
  {
   "cell_type": "code",
   "execution_count": 36,
   "metadata": {},
   "outputs": [
    {
     "name": "stdout",
     "output_type": "stream",
     "text": [
      "Games : 58.16263190564867\n",
      "Entertainment : 7.883302296710118\n",
      "Photo & Video : 4.9658597144630665\n",
      "Education : 3.662321539416512\n",
      "Social Networking : 3.2898820608317814\n",
      "Shopping : 2.60707635009311\n",
      "Utilities : 2.5139664804469275\n",
      "Sports : 2.1415270018621975\n",
      "Music : 2.0484171322160147\n",
      "Health & Fitness : 2.0173805090006205\n",
      "Productivity : 1.7380509000620732\n",
      "Lifestyle : 1.5828677839851024\n",
      "News : 1.3345747982619491\n",
      "Travel : 1.2414649286157666\n",
      "Finance : 1.1173184357541899\n",
      "Weather : 0.8690254500310366\n",
      "Food & Drink : 0.8069522036002483\n",
      "Reference : 0.5586592178770949\n",
      "Business : 0.5276225946617008\n",
      "Book : 0.4345127250155183\n",
      "Navigation : 0.186219739292365\n",
      "Medical : 0.186219739292365\n",
      "Catalogs : 0.12414649286157665\n"
     ]
    }
   ],
   "source": [
    "# use the display table function above for the prime_genre column on the Apple App Store dataset\n",
    "display_table(apple_clean_english_and_free_only,12)"
   ]
  },
  {
   "cell_type": "markdown",
   "metadata": {},
   "source": [
    "# App Store prime_genre Analysis\n",
    "From looking at the count of free English only apps on the App Store by the column \"prime_genre,\" we see the following:\n",
    "\n",
    "- \"Games\" has the most apps at 1874, followed by \"Entertainment\" at 254\n",
    "- It looks like the \"Games\" genre is overwhelmingly the largest category before it significantly drops off at the next category. I would also assume \"Games\" could fall under \"Entertainment\" as well\n",
    "- It appears that most of the apps in this list is geared more towards fun than education (though the two aren't necessarily mutually exclusive)\n",
    "- Based on the genre counts here, and assuming that a higher count of apps signals a need for a higher supply to meet a high demand for these apps, it looks like making an app that could be categorized as a \"Game\" would be the way to go. This could make sense as I could see how games and other fun apps are great for killing time*\n",
    "\n",
    "*Caveat: I am assuming here that more apps in a category equals more popular and in demand which would equal more downloads. However, the larger number of apps in the \"Games\" category could be an indication of what the developers ultimately like developing rather than what the consumers ultimately want. What would be useful is a number of downloads column, and then a percentage of total downloads which would help us be more confident in knowing which genres are more popular. "
   ]
  },
  {
   "cell_type": "markdown",
   "metadata": {},
   "source": [
    "# Google Play Store \"Genres\" Analysis\n",
    "From looking at the count of free English only apps on the Google Play Store by the column \"Genres,\" we see the following:\n",
    "\n",
    "- The \"Tools\" genre is the most common genre at 748, followed by Entertainment at 538\n",
    "- It appears that the number of apps by genre here is more evenly distributed than the App Store genres - the difference between the most common genre and the second most common genre on the Google Play Store is much smaller than the difference in the amount of apps in the top two genres on the App Store dataset\n",
    "- In addition, it looks like there are sub-genres for some of the apps where it further breaks down the \"Education\" genre for instance. To get a better view of the number of apps per genre, it would be a good exercise to recategorize these apps into their parent genre."
   ]
  },
  {
   "cell_type": "markdown",
   "metadata": {},
   "source": [
    "# Google Play Store \"Category\" Analysis\n",
    "From looking at the count of free English only apps on the Google Play Store by the column \"Category,\" we see the following:\n",
    "\n",
    "- The \"FAMILY\" category is the most common category at 1678, followed by GAME at 859 and then TOOLS at 749\n",
    "- For the most part, except for the FAMILY and GAME category, the category numbers seem to line up with the genres numbers (Category \"TOOLS\" has 749 where the genre \"Tools\" has 748, Category \"PRODUCTIVITY\" and genre \"Productivity\" both have 345, among other examples)"
   ]
  },
  {
   "cell_type": "markdown",
   "metadata": {},
   "source": [
    "# Looking at both datasets, and what we should focus our dev on\n",
    "\n",
    "From looking at both the Genres and Category columns of the Google dataset, it looks like a Game meant for entertainment purposes would fit in with the more common free English only apps in both the App Store and the Google Play Store.\n",
    "\n",
    "That said, please see my caveat in the Apple App Store dataset analysis above. We are assuming that more apps in a category equals more popular and in demand which would equal more downloads. However, the larger number of apps in the \"Games\" category could be an indication of what the developers like developing rather than what the consumers actually want. What would be useful is a number of downloads column, and then a percentage of total downloads which would help us be more confident in knowing which genres are more popular. "
   ]
  },
  {
   "cell_type": "markdown",
   "metadata": {},
   "source": [
    "# Downloads/Installs Analysis\n",
    "\n",
    "As mentioned in the caveat above, it would be helpful to see the number of downloads per genre to get a better idea of which genre is more popular. The Google Play Store dataset has a column that gives us the total downloads called \"Installs\" that will be useful for this analysis. However, the Apple App Store dataset has no such column. However, since the Apple App Store dataset has a user ratings column, we can assume that those who have provided a rating have downloaded the app, so we will use the number of user ratings in lieu of an exact downloads number."
   ]
  },
  {
   "cell_type": "markdown",
   "metadata": {},
   "source": [
    "# Average Number of Installs (User Ratings) per Apple App Store Genre\n",
    "As mentioned above, let's calculate the average number of user ratings per Apple App Store \"prime_genre\" to see which genre has the most average users per app in the genre:"
   ]
  },
  {
   "cell_type": "code",
   "execution_count": 37,
   "metadata": {},
   "outputs": [
    {
     "name": "stdout",
     "output_type": "stream",
     "text": [
      "Productivity\n",
      "21028.410714285714\n",
      "\n",
      "Weather\n",
      "52279.892857142855\n",
      "\n",
      "Shopping\n",
      "26919.690476190477\n",
      "\n",
      "Reference\n",
      "74942.11111111111\n",
      "\n",
      "Finance\n",
      "31467.944444444445\n",
      "\n",
      "Music\n",
      "57326.530303030304\n",
      "\n",
      "Utilities\n",
      "18684.456790123455\n",
      "\n",
      "Travel\n",
      "28243.8\n",
      "\n",
      "Social Networking\n",
      "71548.34905660378\n",
      "\n",
      "Sports\n",
      "23008.898550724636\n",
      "\n",
      "Health & Fitness\n",
      "23298.015384615384\n",
      "\n",
      "Games\n",
      "22788.6696905016\n",
      "\n",
      "Food & Drink\n",
      "33333.92307692308\n",
      "\n",
      "News\n",
      "21248.023255813954\n",
      "\n",
      "Book\n",
      "39758.5\n",
      "\n",
      "Photo & Video\n",
      "28441.54375\n",
      "\n",
      "Entertainment\n",
      "14029.830708661417\n",
      "\n",
      "Business\n",
      "7491.117647058823\n",
      "\n",
      "Lifestyle\n",
      "16485.764705882353\n",
      "\n",
      "Education\n",
      "7003.983050847458\n",
      "\n",
      "Navigation\n",
      "86090.33333333333\n",
      "\n",
      "Medical\n",
      "612.0\n",
      "\n",
      "Catalogs\n",
      "4004.0\n",
      "\n"
     ]
    }
   ],
   "source": [
    "# First, let's use our freq_table function to create a new dictionary variable\n",
    "# This dictionary variable will have each of the prime_genres as keys\n",
    "genre_dict = freq_table(apple_clean_english_and_free_only,12)\n",
    "\n",
    "# From there, let's get the number of user ratings for each genre\n",
    "# start a for loop going through each genre\n",
    "for genre in genre_dict:\n",
    "    \n",
    "    # initialize a total variable for getting the total user ratings\n",
    "    total = 0\n",
    "    \n",
    "    # intialize a total variable for getting the number of app appearances:\n",
    "    len_genre = 0\n",
    "    \n",
    "    # loop through the dataset, and with the genre as the key, get the total number of user ratings\n",
    "    for app in apple_clean_english_and_free_only:\n",
    "        \n",
    "        # get the genre as a variable\n",
    "        genre_app = app[12]\n",
    "        \n",
    "        # get the number of user ratings as a variable\n",
    "        rating_count_tot_app = float(app[6])\n",
    "        \n",
    "        # now check to see if the genre_app = the genre from our unique genre's dictionary\n",
    "        if genre_app == genre:\n",
    "            # total user ratings will be incremented by the user ratings for that app\n",
    "            total = total + rating_count_tot_app\n",
    "            # total times the app appears will be incremented by 1\n",
    "            len_genre += 1\n",
    "            \n",
    "    # now let's calculate the average user ratings per genre by taking the total user ratings for a genre...\n",
    "    # ...divided by the total apps within that genre\n",
    "    average_user_ratings = float(total) / float(len_genre)\n",
    "    \n",
    "    # now let's print out the genre and the average user ratings per genre\n",
    "    print(genre)\n",
    "    print(average_user_ratings)\n",
    "    print(\"\")\n",
    "    "
   ]
  },
  {
   "cell_type": "markdown",
   "metadata": {},
   "source": [
    "# Analysis of Average Installs per Genre (Apple App Store)\n",
    "\n",
    "From looking at the above average installs per genre in the App Store, it looks like Navigation apps have the most user ratings. Although this could indicate that Navigation apps could be home to some of the most downloaded apps, I assume the higher user ratings just has to do with more folks being vocal about an app they more consistently use. I could see if, for instance, Apple Maps unfortunately not getting that much love. In fact, from checking the App Store now, I see that Apple Maps actually has no user ratings, which I find hard to believe as everyone should have the app on their phone, and I can't be the only one that was taken to the back entrance of where I was supposed to go when I used the app. From looking at Google Maps and Waze, I see 1.5 million reviews for each app, and they're both sitting comfortably at 5 stars. From this, I think the Navigation space would be hard to break into along with the next most rated genres of Social Networking, Music, and Weather for similar reasons. The \"Reference\" genre looks promising at first until you see that the Bible app and Dictionary.com are the Facebook and Google Maps of this genre as well.\n",
    "\n",
    "Within the medium-level amount of user reviews, we have the following (in no particular order):\n",
    "- Finance\n",
    "- Travel\n",
    "- Shopping\n",
    "- Productivity\n",
    "- Food & Drink\n",
    "- Games\n",
    "- Photo & Video\n",
    "- News\n",
    "- Sports\n",
    "\n",
    "From looking at the above categories, I think the Finance genre also has some well-established apps that are owned by established banks. The same goes for Shopping, Food & Drink, News, Sports and Photo & Video with well-established companies having their information shared in app form. This then brings us full circle to the Games category - there may be a few heavy hitters like Angry Birds out there, but the space is more open for a small app to catch on. Travel and Productivity could also be looked into further."
   ]
  },
  {
   "cell_type": "markdown",
   "metadata": {},
   "source": [
    "# Average Number of Installs per Google Play Store Genre\n",
    "Now, let's calculate the average number of Installs per app in the Google Play Store by \"Category\" to see which category has the most average app downloads:"
   ]
  },
  {
   "cell_type": "code",
   "execution_count": 41,
   "metadata": {},
   "outputs": [
    {
     "name": "stdout",
     "output_type": "stream",
     "text": [
      "ART_AND_DESIGN\n",
      "1986335.0877192982\n",
      "\n",
      "AUTO_AND_VEHICLES\n",
      "647317.8170731707\n",
      "\n",
      "BEAUTY\n",
      "513151.88679245283\n",
      "\n",
      "BOOKS_AND_REFERENCE\n",
      "8767811.894736841\n",
      "\n",
      "BUSINESS\n",
      "1712290.1474201474\n",
      "\n",
      "COMICS\n",
      "817657.2727272727\n",
      "\n",
      "COMMUNICATION\n",
      "38456119.167247385\n",
      "\n",
      "DATING\n",
      "854028.8303030303\n",
      "\n",
      "EDUCATION\n",
      "1820673.076923077\n",
      "\n",
      "ENTERTAINMENT\n",
      "11640705.88235294\n",
      "\n",
      "EVENTS\n",
      "253542.22222222222\n",
      "\n",
      "FINANCE\n",
      "1387692.475609756\n",
      "\n",
      "FOOD_AND_DRINK\n",
      "1924897.7363636363\n",
      "\n",
      "HEALTH_AND_FITNESS\n",
      "4188821.9853479853\n",
      "\n",
      "HOUSE_AND_HOME\n",
      "1331540.5616438356\n",
      "\n",
      "LIBRARIES_AND_DEMO\n",
      "638503.734939759\n",
      "\n",
      "LIFESTYLE\n",
      "1437816.2687861272\n",
      "\n",
      "GAME\n",
      "15560965.599534342\n",
      "\n",
      "FAMILY\n",
      "3694276.334922527\n",
      "\n",
      "MEDICAL\n",
      "120616.48717948717\n",
      "\n",
      "SOCIAL\n",
      "23253652.127118643\n",
      "\n",
      "SHOPPING\n",
      "7036877.311557789\n",
      "\n",
      "PHOTOGRAPHY\n",
      "17805627.643678162\n",
      "\n",
      "SPORTS\n",
      "3638640.1428571427\n",
      "\n",
      "TRAVEL_AND_LOCAL\n",
      "13984077.710144928\n",
      "\n",
      "TOOLS\n",
      "10682301.033377837\n",
      "\n",
      "PERSONALIZATION\n",
      "5201482.6122448975\n",
      "\n",
      "PRODUCTIVITY\n",
      "16787331.344927534\n",
      "\n",
      "PARENTING\n",
      "542603.6206896552\n",
      "\n",
      "WEATHER\n",
      "5074486.197183099\n",
      "\n",
      "VIDEO_PLAYERS\n",
      "24727872.452830188\n",
      "\n",
      "NEWS_AND_MAGAZINES\n",
      "9549178.467741935\n",
      "\n",
      "MAPS_AND_NAVIGATION\n",
      "4056941.7741935486\n",
      "\n"
     ]
    }
   ],
   "source": [
    "# First, let's use our freq_table function to create a new dictionary variable\n",
    "# This dictionary variable will have each of the Categories as keys\n",
    "category_dict = freq_table(android_clean_english_and_free_only,1)\n",
    "\n",
    "# From there, let's get the number of user ratings for each genre\n",
    "# start a for loop going through each genre\n",
    "for category in category_dict:\n",
    "    \n",
    "    # initialize a total variable for getting the total user ratings\n",
    "    total = 0\n",
    "    \n",
    "    # intialize a total variable for getting the number of app appearances:\n",
    "    len_category = 0\n",
    "    \n",
    "    # loop through the dataset, and with the genre as the key, get the total number of user ratings\n",
    "    for app in android_clean_english_and_free_only:\n",
    "        \n",
    "        # get the genre as a variable\n",
    "        category_app = app[1]\n",
    "        \n",
    "        # get the number of user ratings as a variable\n",
    "        installs = app[5]\n",
    "        \n",
    "        # replace any '+' sign and any commas with a blank space\n",
    "        installs = installs.replace('+','')\n",
    "        installs = installs.replace(',','')\n",
    "        \n",
    "        # convert installs to a float\n",
    "        installs = float(installs)\n",
    "        \n",
    "        # now check to see if the genre_app = the genre from our unique genre's dictionary\n",
    "        if category_app == category:\n",
    "            # total user ratings will be incremented by the user ratings for that app\n",
    "            total = total + installs\n",
    "            # total times the app appears will be incremented by 1\n",
    "            len_category += 1\n",
    "            \n",
    "    # now let's calculate the average user ratings per genre by taking the total user ratings for a genre...\n",
    "    # ...divided by the total apps within that genre\n",
    "    average_installs = float(total) / float(len_category)\n",
    "    \n",
    "    # now let's print out the genre and the average user ratings per genre\n",
    "    print(category)\n",
    "    print(average_installs)\n",
    "    print(\"\")\n",
    "    "
   ]
  },
  {
   "cell_type": "markdown",
   "metadata": {},
   "source": [
    "# Analysis of Average Installs per Genre (Google Play Store)\n",
    "\n",
    "Knowing what we know of what does well in the Apple App Store, we have the following categories with the most average downloads (in no particular order):\n",
    "\n",
    "- TRAVEL_AND_LOCAL\n",
    "- PRODUCTIVITY\n",
    "- GAME\n",
    "- PHOTOGRAPHY\n",
    "- VIDEO_PLAYERS\n",
    "- NEWS_AND_MAGAZINES\n",
    "- COMMUNICATION\n",
    "\n",
    "From looking at the above categories, we also see GAMES are heavily downloaded on the Google Play Store as well."
   ]
  },
  {
   "cell_type": "markdown",
   "metadata": {},
   "source": [
    "# Conclusion\n",
    "When looking through our datasets to see which genre of free and English-only apps we should be developing based on what is already heavily downloaded, it's tempting to just develop what has the most downloads or is the most reviewed. However, as we saw with the Social Media and Navigation categories, there can be a few categories with a lot of downloads thanks to one or two apps that are not going anywhere anytime soon. As a result, it would be better to go into a popular category where it's possible to make a variety of apps that have a chance of catching an audience. We narrowed down our categories to ones which meet this criteria, and taking personal interest and experience into account with Games, it would be easier to churn out different games that can help people pass time and maybe let our developers have some fun making them."
   ]
  }
 ],
 "metadata": {
  "kernelspec": {
   "display_name": "Python 3",
   "language": "python",
   "name": "python3"
  },
  "language_info": {
   "codemirror_mode": {
    "name": "ipython",
    "version": 3
   },
   "file_extension": ".py",
   "mimetype": "text/x-python",
   "name": "python",
   "nbconvert_exporter": "python",
   "pygments_lexer": "ipython3",
   "version": "3.6.5"
  }
 },
 "nbformat": 4,
 "nbformat_minor": 2
}
